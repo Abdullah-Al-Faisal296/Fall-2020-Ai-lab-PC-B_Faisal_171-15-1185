{
  "nbformat": 4,
  "nbformat_minor": 0,
  "metadata": {
    "colab": {
      "name": "week_2_PC_B_Faisal_1185.ipynb",
      "provenance": [],
      "authorship_tag": "ABX9TyNafSU0EO7XX+5aelu6N6Wx",
      "include_colab_link": true
    },
    "kernelspec": {
      "name": "python3",
      "display_name": "Python 3"
    }
  },
  "cells": [
    {
      "cell_type": "markdown",
      "metadata": {
        "id": "view-in-github",
        "colab_type": "text"
      },
      "source": [
        "<a href=\"https://colab.research.google.com/github/Abdullah-Al-Faisal296/Fall-2020-Ai-lab-PC-B_Faisal_171-15-1185/blob/main/week_2_PC_B_Faisal_1185.ipynb\" target=\"_parent\"><img src=\"https://colab.research.google.com/assets/colab-badge.svg\" alt=\"Open In Colab\"/></a>"
      ]
    },
    {
      "cell_type": "markdown",
      "metadata": {
        "id": "5zwosbqCYM3K"
      },
      "source": [
        "#**if statement**"
      ]
    },
    {
      "cell_type": "code",
      "metadata": {
        "id": "PUQjyjvCYSKO",
        "outputId": "4f616d2c-584a-46ce-8bb9-b054483f077d",
        "colab": {
          "base_uri": "https://localhost:8080/",
          "height": 35
        }
      },
      "source": [
        "grade = 75\n",
        "if grade>=50:\n",
        "  print(\"passed\")"
      ],
      "execution_count": 2,
      "outputs": [
        {
          "output_type": "stream",
          "text": [
            "passed\n"
          ],
          "name": "stdout"
        }
      ]
    },
    {
      "cell_type": "markdown",
      "metadata": {
        "id": "OLvb26rtYw3_"
      },
      "source": [
        "#**If else statement**"
      ]
    },
    {
      "cell_type": "code",
      "metadata": {
        "id": "rHvnxEl-Y0Uj",
        "outputId": "5dc30b30-234c-4a35-953b-031292a9949b",
        "colab": {
          "base_uri": "https://localhost:8080/",
          "height": 35
        }
      },
      "source": [
        "grade =40\n",
        "if grade>=50:\n",
        "  print(\"passed\")\n",
        "else:\n",
        "  print(\"fail\")"
      ],
      "execution_count": 3,
      "outputs": [
        {
          "output_type": "stream",
          "text": [
            "fail\n"
          ],
          "name": "stdout"
        }
      ]
    },
    {
      "cell_type": "markdown",
      "metadata": {
        "id": "5VuqbClmZlwT"
      },
      "source": [
        "**Conditional** expression"
      ]
    },
    {
      "cell_type": "code",
      "metadata": {
        "id": "7WxuubtjZpvO"
      },
      "source": [
        "result = ('Passed' if grade >= 50 else 'Failed')"
      ],
      "execution_count": null,
      "outputs": []
    },
    {
      "cell_type": "code",
      "metadata": {
        "id": "vmiY4VJbaFfd",
        "outputId": "1c5bc52f-f30f-4287-9ba3-640d2ca4b52a",
        "colab": {
          "base_uri": "https://localhost:8080/",
          "height": 35
        }
      },
      "source": [
        "print(result)"
      ],
      "execution_count": null,
      "outputs": [
        {
          "output_type": "stream",
          "text": [
            "Failed\n"
          ],
          "name": "stdout"
        }
      ]
    },
    {
      "cell_type": "markdown",
      "metadata": {
        "id": "ttgDv2n6bF7L"
      },
      "source": [
        "#**if elif else statement**\n"
      ]
    },
    {
      "cell_type": "code",
      "metadata": {
        "id": "Mfy4C3AgbILS",
        "outputId": "3ade2ea3-d927-46fd-8ee0-b41027d6ae36",
        "colab": {
          "base_uri": "https://localhost:8080/",
          "height": 35
        }
      },
      "source": [
        "grade = 81\n",
        "\n",
        "if grade >= 90:\n",
        "    print('A')\n",
        "elif grade >= 80:\n",
        "    print('B')\n",
        "elif grade >= 70:\n",
        "    print('C')\n",
        "elif grade >= 60:\n",
        "    print('D')\n",
        "else:\n",
        "    print('F')"
      ],
      "execution_count": 4,
      "outputs": [
        {
          "output_type": "stream",
          "text": [
            "B\n"
          ],
          "name": "stdout"
        }
      ]
    },
    {
      "cell_type": "markdown",
      "metadata": {
        "id": "zJbUc8U6bXXy"
      },
      "source": [
        "#**While Statement**"
      ]
    },
    {
      "cell_type": "code",
      "metadata": {
        "id": "Z6oJccJdbbPP",
        "outputId": "09314e7f-c424-4657-f253-620340948aca",
        "colab": {
          "base_uri": "https://localhost:8080/",
          "height": 35
        }
      },
      "source": [
        "number = 1\n",
        "\n",
        "while (number<=22):\n",
        "  print(number, end=\" \") \n",
        "  number+=1"
      ],
      "execution_count": null,
      "outputs": [
        {
          "output_type": "stream",
          "text": [
            "1 2 3 4 5 6 7 8 9 10 11 12 13 14 15 16 17 18 19 20 21 22 "
          ],
          "name": "stdout"
        }
      ]
    },
    {
      "cell_type": "markdown",
      "metadata": {
        "id": "Zaj861TwcdIN"
      },
      "source": [
        "while statement to find the first power of 3 larger than 50:"
      ]
    },
    {
      "cell_type": "code",
      "metadata": {
        "id": "VPCHcfVwcf-d"
      },
      "source": [
        "product = 2\n",
        "\n",
        "while product<=4:\n",
        "  product = product*3"
      ],
      "execution_count": null,
      "outputs": []
    },
    {
      "cell_type": "code",
      "metadata": {
        "id": "2BD87qbAcnrb",
        "outputId": "7ba40f90-cc08-49a6-d8ac-f3f586b34de5",
        "colab": {
          "base_uri": "https://localhost:8080/",
          "height": 35
        }
      },
      "source": [
        "print(product)"
      ],
      "execution_count": null,
      "outputs": [
        {
          "output_type": "stream",
          "text": [
            "6\n"
          ],
          "name": "stdout"
        }
      ]
    },
    {
      "cell_type": "markdown",
      "metadata": {
        "id": "Gj0-i3aGeK7Q"
      },
      "source": [
        "#**For statement**"
      ]
    },
    {
      "cell_type": "code",
      "metadata": {
        "id": "CcWPIngdeOal",
        "outputId": "b374c9ac-badb-40cd-8290-cd61290c88b6",
        "colab": {
          "base_uri": "https://localhost:8080/",
          "height": 35
        }
      },
      "source": [
        "for character in \"Faisal\":\n",
        "  print(character, end=\" \")"
      ],
      "execution_count": 20,
      "outputs": [
        {
          "output_type": "stream",
          "text": [
            "F a i s a l "
          ],
          "name": "stdout"
        }
      ]
    },
    {
      "cell_type": "markdown",
      "metadata": {
        "id": "d4N0_y2XeqJR"
      },
      "source": [
        "Built in Range Function"
      ]
    },
    {
      "cell_type": "markdown",
      "metadata": {
        "id": "l1HUxEmIfH57"
      },
      "source": [
        "Let’s use a for statement and the built-in range function to iterate precisely 20 times, displaying the values from 0 through 19:"
      ]
    },
    {
      "cell_type": "code",
      "metadata": {
        "id": "NjZmUaGWfK75",
        "outputId": "a68f4754-fe9f-492f-d4e6-88d6c8cf4687",
        "colab": {
          "base_uri": "https://localhost:8080/",
          "height": 35
        }
      },
      "source": [
        "for counter in range(20):\n",
        "  print(counter, end=\" \")"
      ],
      "execution_count": null,
      "outputs": [
        {
          "output_type": "stream",
          "text": [
            "0 1 2 3 4 5 6 7 8 9 10 11 12 13 14 15 16 17 18 19 "
          ],
          "name": "stdout"
        }
      ]
    },
    {
      "cell_type": "markdown",
      "metadata": {
        "id": "FH7GqgrHfXJk"
      },
      "source": [
        "Use the range function and a for statement to calculate the total of the integers from 0 through 1,000"
      ]
    },
    {
      "cell_type": "code",
      "metadata": {
        "id": "JZXzp4jlfoZJ",
        "outputId": "08ccaa73-7c6e-48d0-a779-9e1aed0dd22d",
        "colab": {
          "base_uri": "https://localhost:8080/",
          "height": 35
        }
      },
      "source": [
        "total = 0\n",
        "for number in range(1000):\n",
        "  total = total+number\n",
        "\n",
        "print(total)"
      ],
      "execution_count": null,
      "outputs": [
        {
          "output_type": "stream",
          "text": [
            "499500\n"
          ],
          "name": "stdout"
        }
      ]
    },
    {
      "cell_type": "markdown",
      "metadata": {
        "id": "A72WgWdRf2lr"
      },
      "source": [
        "Function range also has two- and three-argument versions. As you’ve seen, range’s one argument version produces a sequence of consecutive integers from 0 up to, but not including, the argument’s value. Function range’s two-argument version produces a sequence of consecutive integers from its first argument’s value up to, but not including, the second argument’s value, as in:\n"
      ]
    },
    {
      "cell_type": "code",
      "metadata": {
        "id": "qO8rsUvXf3z6",
        "outputId": "cc1ec76f-5458-4b4b-8d0e-6d966102e8af",
        "colab": {
          "base_uri": "https://localhost:8080/",
          "height": 35
        }
      },
      "source": [
        "for number in range(3,8):\n",
        "  print(number, end=\",\")"
      ],
      "execution_count": null,
      "outputs": [
        {
          "output_type": "stream",
          "text": [
            "3,4,5,6,7,"
          ],
          "name": "stdout"
        }
      ]
    },
    {
      "cell_type": "markdown",
      "metadata": {
        "id": "wrkZMQAcgkZc"
      },
      "source": [
        "Function range’s three-argument version produces a sequence of integers from its first argument’s value up to, but not including, the second argument’s value, incrementing by the third argument’s value, which is known as the step:"
      ]
    },
    {
      "cell_type": "code",
      "metadata": {
        "id": "fSknyBOZgljI",
        "outputId": "6a4154fa-3c19-46eb-fd4f-8cfb38d4ecd3",
        "colab": {
          "base_uri": "https://localhost:8080/",
          "height": 35
        }
      },
      "source": [
        "for number in range(16,0,-2):\n",
        "  print(number, end=\" \")"
      ],
      "execution_count": 19,
      "outputs": [
        {
          "output_type": "stream",
          "text": [
            "16 14 12 10 8 6 4 2 "
          ],
          "name": "stdout"
        }
      ]
    },
    {
      "cell_type": "markdown",
      "metadata": {
        "id": "wTMMmvophSme"
      },
      "source": [
        "Take an input from user and print the number table"
      ]
    },
    {
      "cell_type": "code",
      "metadata": {
        "id": "FFjyiqA_hToE"
      },
      "source": [
        "number =  int(input())"
      ],
      "execution_count": null,
      "outputs": []
    },
    {
      "cell_type": "code",
      "metadata": {
        "id": "YeXMAyLmt2Q0",
        "outputId": "6a22623a-de5f-49f8-ac5f-0a3ad876455e",
        "colab": {
          "base_uri": "https://localhost:8080/",
          "height": 201
        }
      },
      "source": [
        "for i in range(1,11):\n",
        "  print(number,\"X\",i,\"=\",number*i)"
      ],
      "execution_count": 18,
      "outputs": [
        {
          "output_type": "stream",
          "text": [
            "11 X 1 = 11\n",
            "11 X 2 = 22\n",
            "11 X 3 = 33\n",
            "11 X 4 = 44\n",
            "11 X 5 = 55\n",
            "11 X 6 = 66\n",
            "11 X 7 = 77\n",
            "11 X 8 = 88\n",
            "11 X 9 = 99\n",
            "11 X 10 = 110\n"
          ],
          "name": "stdout"
        }
      ]
    },
    {
      "cell_type": "markdown",
      "metadata": {
        "id": "wHrArBtaiNVa"
      },
      "source": [
        "Nested For Loop"
      ]
    },
    {
      "cell_type": "code",
      "metadata": {
        "id": "IEx6yh6uttwF"
      },
      "source": [
        ""
      ],
      "execution_count": null,
      "outputs": []
    },
    {
      "cell_type": "code",
      "metadata": {
        "id": "pMlWXsYwiObM",
        "outputId": "94dd59cd-4fb5-4cde-b362-b3f38182c6d6",
        "colab": {
          "base_uri": "https://localhost:8080/",
          "height": 182
        }
      },
      "source": [
        "for left in range(9):\n",
        "    for right in range(left,9):\n",
        "        print(\"[\"+str(left)+\"|\"+str(right)+\"]\", end =\" \")\n",
        "    print()"
      ],
      "execution_count": 12,
      "outputs": [
        {
          "output_type": "stream",
          "text": [
            "[0|0] [0|1] [0|2] [0|3] [0|4] [0|5] [0|6] [0|7] [0|8] \n",
            "[1|1] [1|2] [1|3] [1|4] [1|5] [1|6] [1|7] [1|8] \n",
            "[2|2] [2|3] [2|4] [2|5] [2|6] [2|7] [2|8] \n",
            "[3|3] [3|4] [3|5] [3|6] [3|7] [3|8] \n",
            "[4|4] [4|5] [4|6] [4|7] [4|8] \n",
            "[5|5] [5|6] [5|7] [5|8] \n",
            "[6|6] [6|7] [6|8] \n",
            "[7|7] [7|8] \n",
            "[8|8] \n"
          ],
          "name": "stdout"
        }
      ]
    },
    {
      "cell_type": "markdown",
      "metadata": {
        "id": "e0ls7g7Miatk"
      },
      "source": [
        "Break statement"
      ]
    },
    {
      "cell_type": "code",
      "metadata": {
        "id": "MEULP3o5ibyd",
        "outputId": "3babbf13-1add-49dd-f378-096a47cf507f",
        "colab": {
          "base_uri": "https://localhost:8080/",
          "height": 35
        }
      },
      "source": [
        "for number in range(8):\n",
        "  if  number==12:\n",
        "    break\n",
        "  print(number, end=\" \")"
      ],
      "execution_count": 8,
      "outputs": [
        {
          "output_type": "stream",
          "text": [
            "0 1 2 3 4 5 6 7 "
          ],
          "name": "stdout"
        }
      ]
    },
    {
      "cell_type": "markdown",
      "metadata": {
        "id": "jiJySXSziffN"
      },
      "source": [
        "Continue statement"
      ]
    },
    {
      "cell_type": "code",
      "metadata": {
        "id": "d4pyzL-BikKp",
        "outputId": "69254683-2649-480d-d582-e46c40a03418",
        "colab": {
          "base_uri": "https://localhost:8080/",
          "height": 35
        }
      },
      "source": [
        "for number in range(12):\n",
        "  if  number==7:\n",
        "    continue\n",
        "  print(number, end=\" \")"
      ],
      "execution_count": 10,
      "outputs": [
        {
          "output_type": "stream",
          "text": [
            "0 1 2 3 4 5 6 8 9 10 11 "
          ],
          "name": "stdout"
        }
      ]
    }
  ]
}