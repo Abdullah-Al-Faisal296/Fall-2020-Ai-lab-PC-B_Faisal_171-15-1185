{
  "nbformat": 4,
  "nbformat_minor": 0,
  "metadata": {
    "colab": {
      "name": "week_2_PC_B_Faisal_1185.ipynb",
      "provenance": [],
      "authorship_tag": "ABX9TyNRDj+Ipg9+xfKZRetjPnQ/",
      "include_colab_link": true
    },
    "kernelspec": {
      "name": "python3",
      "display_name": "Python 3"
    }
  },
  "cells": [
    {
      "cell_type": "markdown",
      "metadata": {
        "id": "view-in-github",
        "colab_type": "text"
      },
      "source": [
        "<a href=\"https://colab.research.google.com/github/Abdullah-Al-Faisal296/Fall-2020-Ai-lab-PC-B_Faisal_171-15-1185/blob/main/week_2_PC_B_Faisal_1185.ipynb\" target=\"_parent\"><img src=\"https://colab.research.google.com/assets/colab-badge.svg\" alt=\"Open In Colab\"/></a>"
      ]
    },
    {
      "cell_type": "markdown",
      "metadata": {
        "id": "5zwosbqCYM3K"
      },
      "source": [
        "#**if statement**"
      ]
    },
    {
      "cell_type": "code",
      "metadata": {
        "id": "PUQjyjvCYSKO",
        "outputId": "a3871aea-a85c-4942-d90d-806f1abd3caf",
        "colab": {
          "base_uri": "https://localhost:8080/",
          "height": 35
        }
      },
      "source": [
        "grade = 75\n",
        "if grade>=50:\n",
        "  print(\"passed\")"
      ],
      "execution_count": 3,
      "outputs": [
        {
          "output_type": "stream",
          "text": [
            "passed\n"
          ],
          "name": "stdout"
        }
      ]
    },
    {
      "cell_type": "markdown",
      "metadata": {
        "id": "OLvb26rtYw3_"
      },
      "source": [
        "#**If else statement**"
      ]
    },
    {
      "cell_type": "code",
      "metadata": {
        "id": "rHvnxEl-Y0Uj",
        "outputId": "00100128-defb-44fd-9e91-dbbd62b63752",
        "colab": {
          "base_uri": "https://localhost:8080/",
          "height": 35
        }
      },
      "source": [
        "grade =40\n",
        "if grade>=50:\n",
        "  print(\"passed\")\n",
        "else:\n",
        "  print(\"fail\")"
      ],
      "execution_count": 6,
      "outputs": [
        {
          "output_type": "stream",
          "text": [
            "fail\n"
          ],
          "name": "stdout"
        }
      ]
    },
    {
      "cell_type": "markdown",
      "metadata": {
        "id": "5VuqbClmZlwT"
      },
      "source": [
        "**Conditional** expression"
      ]
    },
    {
      "cell_type": "code",
      "metadata": {
        "id": "7WxuubtjZpvO"
      },
      "source": [
        "result = ('Passed' if grade >= 50 else 'Failed')"
      ],
      "execution_count": 13,
      "outputs": []
    },
    {
      "cell_type": "code",
      "metadata": {
        "id": "vmiY4VJbaFfd",
        "outputId": "1c5bc52f-f30f-4287-9ba3-640d2ca4b52a",
        "colab": {
          "base_uri": "https://localhost:8080/",
          "height": 35
        }
      },
      "source": [
        "print(result)"
      ],
      "execution_count": 8,
      "outputs": [
        {
          "output_type": "stream",
          "text": [
            "Failed\n"
          ],
          "name": "stdout"
        }
      ]
    },
    {
      "cell_type": "markdown",
      "metadata": {
        "id": "ttgDv2n6bF7L"
      },
      "source": [
        "#**if elif else statement**\n"
      ]
    },
    {
      "cell_type": "code",
      "metadata": {
        "id": "Mfy4C3AgbILS",
        "outputId": "29e8fc1b-1891-4f30-8435-9e1360a20c0e",
        "colab": {
          "base_uri": "https://localhost:8080/",
          "height": 35
        }
      },
      "source": [
        "grade = 81\n",
        "\n",
        "if grade >= 90:\n",
        "    print('A')\n",
        "elif grade >= 80:\n",
        "    print('B')\n",
        "elif grade >= 70:\n",
        "    print('C')\n",
        "elif grade >= 60:\n",
        "    print('D')\n",
        "else:\n",
        "    print('F')"
      ],
      "execution_count": 15,
      "outputs": [
        {
          "output_type": "stream",
          "text": [
            "B\n"
          ],
          "name": "stdout"
        }
      ]
    },
    {
      "cell_type": "markdown",
      "metadata": {
        "id": "zJbUc8U6bXXy"
      },
      "source": [
        "#**While Statement**"
      ]
    },
    {
      "cell_type": "code",
      "metadata": {
        "id": "Z6oJccJdbbPP",
        "outputId": "09314e7f-c424-4657-f253-620340948aca",
        "colab": {
          "base_uri": "https://localhost:8080/",
          "height": 35
        }
      },
      "source": [
        "number = 1\n",
        "\n",
        "while (number<=22):\n",
        "  print(number, end=\" \") \n",
        "  number+=1"
      ],
      "execution_count": 19,
      "outputs": [
        {
          "output_type": "stream",
          "text": [
            "1 2 3 4 5 6 7 8 9 10 11 12 13 14 15 16 17 18 19 20 21 22 "
          ],
          "name": "stdout"
        }
      ]
    },
    {
      "cell_type": "markdown",
      "metadata": {
        "id": "Zaj861TwcdIN"
      },
      "source": [
        "while statement to find the first power of 3 larger than 50:"
      ]
    },
    {
      "cell_type": "code",
      "metadata": {
        "id": "VPCHcfVwcf-d"
      },
      "source": [
        "product = 2\n",
        "\n",
        "while product<=4:\n",
        "  product = product*3"
      ],
      "execution_count": 30,
      "outputs": []
    },
    {
      "cell_type": "code",
      "metadata": {
        "id": "2BD87qbAcnrb",
        "outputId": "7ba40f90-cc08-49a6-d8ac-f3f586b34de5",
        "colab": {
          "base_uri": "https://localhost:8080/",
          "height": 35
        }
      },
      "source": [
        "print(product)"
      ],
      "execution_count": 31,
      "outputs": [
        {
          "output_type": "stream",
          "text": [
            "6\n"
          ],
          "name": "stdout"
        }
      ]
    },
    {
      "cell_type": "markdown",
      "metadata": {
        "id": "Gj0-i3aGeK7Q"
      },
      "source": [
        "#**For statement**"
      ]
    },
    {
      "cell_type": "code",
      "metadata": {
        "id": "CcWPIngdeOal",
        "outputId": "4aeb4da4-8a1b-4f09-d9d8-e6c800e7951f",
        "colab": {
          "base_uri": "https://localhost:8080/",
          "height": 35
        }
      },
      "source": [
        "for character in \"Faisal\":\n",
        "  print(character, end=\" \")"
      ],
      "execution_count": 33,
      "outputs": [
        {
          "output_type": "stream",
          "text": [
            "F a i s a l "
          ],
          "name": "stdout"
        }
      ]
    },
    {
      "cell_type": "markdown",
      "metadata": {
        "id": "d4N0_y2XeqJR"
      },
      "source": [
        "Built in Range Function"
      ]
    },
    {
      "cell_type": "markdown",
      "metadata": {
        "id": "l1HUxEmIfH57"
      },
      "source": [
        "Let’s use a for statement and the built-in range function to iterate precisely 20 times, displaying the values from 0 through 19:"
      ]
    },
    {
      "cell_type": "code",
      "metadata": {
        "id": "NjZmUaGWfK75",
        "outputId": "a68f4754-fe9f-492f-d4e6-88d6c8cf4687",
        "colab": {
          "base_uri": "https://localhost:8080/",
          "height": 35
        }
      },
      "source": [
        "for counter in range(20):\n",
        "  print(counter, end=\" \")"
      ],
      "execution_count": 36,
      "outputs": [
        {
          "output_type": "stream",
          "text": [
            "0 1 2 3 4 5 6 7 8 9 10 11 12 13 14 15 16 17 18 19 "
          ],
          "name": "stdout"
        }
      ]
    },
    {
      "cell_type": "markdown",
      "metadata": {
        "id": "FH7GqgrHfXJk"
      },
      "source": [
        "Use the range function and a for statement to calculate the total of the integers from 0 through 1,000"
      ]
    },
    {
      "cell_type": "code",
      "metadata": {
        "id": "JZXzp4jlfoZJ",
        "outputId": "08ccaa73-7c6e-48d0-a779-9e1aed0dd22d",
        "colab": {
          "base_uri": "https://localhost:8080/",
          "height": 35
        }
      },
      "source": [
        "total = 0\n",
        "for number in range(1000):\n",
        "  total = total+number\n",
        "\n",
        "print(total)"
      ],
      "execution_count": 38,
      "outputs": [
        {
          "output_type": "stream",
          "text": [
            "499500\n"
          ],
          "name": "stdout"
        }
      ]
    },
    {
      "cell_type": "markdown",
      "metadata": {
        "id": "A72WgWdRf2lr"
      },
      "source": [
        "Function range also has two- and three-argument versions. As you’ve seen, range’s one argument version produces a sequence of consecutive integers from 0 up to, but not including, the argument’s value. Function range’s two-argument version produces a sequence of consecutive integers from its first argument’s value up to, but not including, the second argument’s value, as in:\n"
      ]
    },
    {
      "cell_type": "code",
      "metadata": {
        "id": "qO8rsUvXf3z6",
        "outputId": "cc1ec76f-5458-4b4b-8d0e-6d966102e8af",
        "colab": {
          "base_uri": "https://localhost:8080/",
          "height": 35
        }
      },
      "source": [
        "for number in range(3,8):\n",
        "  print(number, end=\",\")"
      ],
      "execution_count": 45,
      "outputs": [
        {
          "output_type": "stream",
          "text": [
            "3,4,5,6,7,"
          ],
          "name": "stdout"
        }
      ]
    },
    {
      "cell_type": "markdown",
      "metadata": {
        "id": "wrkZMQAcgkZc"
      },
      "source": [
        "Function range’s three-argument version produces a sequence of integers from its first argument’s value up to, but not including, the second argument’s value, incrementing by the third argument’s value, which is known as the step:"
      ]
    },
    {
      "cell_type": "code",
      "metadata": {
        "id": "fSknyBOZgljI",
        "outputId": "0376dfd7-ff77-456c-82f1-c56817d5cdd6",
        "colab": {
          "base_uri": "https://localhost:8080/",
          "height": 35
        }
      },
      "source": [
        "for number in range(16,0,-2):\n",
        "  print(number, end=\" \")"
      ],
      "execution_count": 55,
      "outputs": [
        {
          "output_type": "stream",
          "text": [
            "16 14 12 10 8 6 4 2 "
          ],
          "name": "stdout"
        }
      ]
    },
    {
      "cell_type": "markdown",
      "metadata": {
        "id": "wTMMmvophSme"
      },
      "source": [
        "Take an input from user and print the number table"
      ]
    },
    {
      "cell_type": "code",
      "metadata": {
        "id": "FFjyiqA_hToE"
      },
      "source": [
        "number =  int(input())"
      ],
      "execution_count": null,
      "outputs": []
    },
    {
      "cell_type": "code",
      "metadata": {
        "id": "YeXMAyLmt2Q0"
      },
      "source": [
        "for i in range(1,11):\n",
        "  print(number,\"X\",i,\"=\",number*i)"
      ],
      "execution_count": null,
      "outputs": []
    },
    {
      "cell_type": "markdown",
      "metadata": {
        "id": "wHrArBtaiNVa"
      },
      "source": [
        "Nested For Loop"
      ]
    },
    {
      "cell_type": "code",
      "metadata": {
        "id": "IEx6yh6uttwF"
      },
      "source": [
        ""
      ],
      "execution_count": null,
      "outputs": []
    },
    {
      "cell_type": "code",
      "metadata": {
        "id": "pMlWXsYwiObM"
      },
      "source": [
        "for left in range(7):\n",
        "    for right in range(left,7):\n",
        "        print(\"[\"+str(left)+\"|\"+str(right)+\"]\", end =\" \")\n",
        "    print()"
      ],
      "execution_count": null,
      "outputs": []
    },
    {
      "cell_type": "markdown",
      "metadata": {
        "id": "e0ls7g7Miatk"
      },
      "source": [
        "Break statement"
      ]
    },
    {
      "cell_type": "code",
      "metadata": {
        "id": "MEULP3o5ibyd"
      },
      "source": [
        "for number in range(10):\n",
        "  if  number==5:\n",
        "    break\n",
        "  print(number, end=\" \")"
      ],
      "execution_count": null,
      "outputs": []
    },
    {
      "cell_type": "markdown",
      "metadata": {
        "id": "jiJySXSziffN"
      },
      "source": [
        "Continue statement"
      ]
    },
    {
      "cell_type": "code",
      "metadata": {
        "id": "d4pyzL-BikKp"
      },
      "source": [
        "for number in range(10):\n",
        "  if  number==5:\n",
        "    continue\n",
        "  print(number, end=\" \")"
      ],
      "execution_count": null,
      "outputs": []
    }
  ]
}