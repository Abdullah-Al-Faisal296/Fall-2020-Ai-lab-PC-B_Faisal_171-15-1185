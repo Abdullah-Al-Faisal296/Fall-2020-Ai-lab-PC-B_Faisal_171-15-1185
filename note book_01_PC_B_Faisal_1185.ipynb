{
  "nbformat": 4,
  "nbformat_minor": 0,
  "metadata": {
    "colab": {
      "name": "week-1 PC-B_Faisal_1185.ipynb",
      "provenance": [],
      "authorship_tag": "ABX9TyPrEkUtenWsVhmdW06qzpL/",
      "include_colab_link": true
    },
    "kernelspec": {
      "name": "python3",
      "display_name": "Python 3"
    }
  },
  "cells": [
    {
      "cell_type": "markdown",
      "metadata": {
        "id": "view-in-github",
        "colab_type": "text"
      },
      "source": [
        "<a href=\"https://colab.research.google.com/github/Abdullah-Al-Faisal296/Fall-2020-Ai-lab-PC-B_Faisal_171-15-1185/blob/main/week_1_PC_B_Faisal_1185.ipynb\" target=\"_parent\"><img src=\"https://colab.research.google.com/assets/colab-badge.svg\" alt=\"Open In Colab\"/></a>"
      ]
    },
    {
      "cell_type": "markdown",
      "metadata": {
        "id": "JagAUuNqf2xI"
      },
      "source": [
        "# **Print \"Hello World\"**"
      ]
    },
    {
      "cell_type": "code",
      "metadata": {
        "id": "HXkUtN1-gK71",
        "outputId": "e4573c9f-b519-4a0a-9170-f63d5a5aacf0",
        "colab": {
          "base_uri": "https://localhost:8080/",
          "height": 35
        }
      },
      "source": [
        "print(\"Hello Sir\")"
      ],
      "execution_count": 44,
      "outputs": [
        {
          "output_type": "stream",
          "text": [
            "Hello Sir\n"
          ],
          "name": "stdout"
        }
      ]
    },
    {
      "cell_type": "markdown",
      "metadata": {
        "id": "OBoQDkdggcq6"
      },
      "source": [
        "#**Variable and Assignment Assessments**"
      ]
    },
    {
      "cell_type": "code",
      "metadata": {
        "id": "zFYDsXOagzBQ",
        "outputId": "8a905cb9-67fe-4299-e523-1ca02461b931",
        "colab": {
          "base_uri": "https://localhost:8080/",
          "height": 35
        }
      },
      "source": [
        "x=2\n",
        "y=3\n",
        "print(x+y)"
      ],
      "execution_count": 3,
      "outputs": [
        {
          "output_type": "stream",
          "text": [
            "5\n"
          ],
          "name": "stdout"
        }
      ]
    },
    {
      "cell_type": "code",
      "metadata": {
        "id": "luFrFMUMhP9n",
        "outputId": "8f02a75d-8976-4bcf-cddf-8e17a0d3d9c0",
        "colab": {
          "base_uri": "https://localhost:8080/",
          "height": 35
        }
      },
      "source": [
        "total = x+y\n",
        "print(total)"
      ],
      "execution_count": 4,
      "outputs": [
        {
          "output_type": "stream",
          "text": [
            "5\n"
          ],
          "name": "stdout"
        }
      ]
    },
    {
      "cell_type": "code",
      "metadata": {
        "id": "di8g_n5vhbjb",
        "outputId": "cc52a529-21f7-4657-bea0-6406cd533ebd",
        "colab": {
          "base_uri": "https://localhost:8080/",
          "height": 35
        }
      },
      "source": [
        "name = \"Faisal\"\n",
        "name2 = \"Rana\"\n",
        "print(name,name2)"
      ],
      "execution_count": 7,
      "outputs": [
        {
          "output_type": "stream",
          "text": [
            "Faisal Rana\n"
          ],
          "name": "stdout"
        }
      ]
    },
    {
      "cell_type": "markdown",
      "metadata": {
        "id": "B_veXtTFh1Sf"
      },
      "source": [
        "#**Type**"
      ]
    },
    {
      "cell_type": "code",
      "metadata": {
        "id": "_Q-J9yFgh5cq",
        "outputId": "4b13444c-7914-485e-8131-8955c5880f58",
        "colab": {
          "base_uri": "https://localhost:8080/",
          "height": 35
        }
      },
      "source": [
        "x =10\n",
        "type(x)"
      ],
      "execution_count": 8,
      "outputs": [
        {
          "output_type": "execute_result",
          "data": {
            "text/plain": [
              "int"
            ]
          },
          "metadata": {
            "tags": []
          },
          "execution_count": 8
        }
      ]
    },
    {
      "cell_type": "code",
      "metadata": {
        "id": "kJ8ekFFIiRQQ",
        "outputId": "e88135c1-9070-4983-cf81-fc3055776b31",
        "colab": {
          "base_uri": "https://localhost:8080/",
          "height": 35
        }
      },
      "source": [
        "type(17.3)"
      ],
      "execution_count": 10,
      "outputs": [
        {
          "output_type": "execute_result",
          "data": {
            "text/plain": [
              "float"
            ]
          },
          "metadata": {
            "tags": []
          },
          "execution_count": 10
        }
      ]
    },
    {
      "cell_type": "code",
      "metadata": {
        "id": "Cu3OuwU1igRG",
        "outputId": "ff499851-466d-41ca-82f6-ae984a7b6d8a",
        "colab": {
          "base_uri": "https://localhost:8080/",
          "height": 35
        }
      },
      "source": [
        "type(name)"
      ],
      "execution_count": 11,
      "outputs": [
        {
          "output_type": "execute_result",
          "data": {
            "text/plain": [
              "str"
            ]
          },
          "metadata": {
            "tags": []
          },
          "execution_count": 11
        }
      ]
    },
    {
      "cell_type": "markdown",
      "metadata": {
        "id": "cXFCjL0YnMvv"
      },
      "source": [
        "#**Arithmetic operators**"
      ]
    },
    {
      "cell_type": "code",
      "metadata": {
        "id": "63GIrT3FnZJ0",
        "outputId": "7206551d-1297-4e60-9667-c6788cf80fa7",
        "colab": {
          "base_uri": "https://localhost:8080/",
          "height": 35
        }
      },
      "source": [
        " multiplication = 5*5\n",
        " print(multiplication)"
      ],
      "execution_count": 13,
      "outputs": [
        {
          "output_type": "stream",
          "text": [
            "25\n"
          ],
          "name": "stdout"
        }
      ]
    },
    {
      "cell_type": "code",
      "metadata": {
        "id": "CY1SYP71ntab",
        "outputId": "f12dd931-dbb0-4b6e-d126-8f7bd710cc9f",
        "colab": {
          "base_uri": "https://localhost:8080/",
          "height": 35
        }
      },
      "source": [
        "add = 10+10\n",
        "print(add)"
      ],
      "execution_count": 14,
      "outputs": [
        {
          "output_type": "stream",
          "text": [
            "20\n"
          ],
          "name": "stdout"
        }
      ]
    },
    {
      "cell_type": "code",
      "metadata": {
        "id": "_ayZKSAQnxD7",
        "outputId": "c1619c0b-740f-467a-a1a4-7ff44e216d7a",
        "colab": {
          "base_uri": "https://localhost:8080/",
          "height": 35
        }
      },
      "source": [
        "sub = 20-8\n",
        "print(sub)"
      ],
      "execution_count": 15,
      "outputs": [
        {
          "output_type": "stream",
          "text": [
            "12\n"
          ],
          "name": "stdout"
        }
      ]
    },
    {
      "cell_type": "code",
      "metadata": {
        "id": "rPGoQzHWobgQ",
        "outputId": "2964173f-e13b-4280-b562-f9098e73e635",
        "colab": {
          "base_uri": "https://localhost:8080/",
          "height": 35
        }
      },
      "source": [
        "Exponentiation = 3**12\n",
        "print(Exponentiation)"
      ],
      "execution_count": 17,
      "outputs": [
        {
          "output_type": "stream",
          "text": [
            "531441\n"
          ],
          "name": "stdout"
        }
      ]
    },
    {
      "cell_type": "code",
      "metadata": {
        "id": "2_eElEbnpHcf",
        "outputId": "26bf0384-88e0-4278-b1b2-441bd5dc1343",
        "colab": {
          "base_uri": "https://localhost:8080/",
          "height": 35
        }
      },
      "source": [
        "True_Division = 5/2\n",
        "print(True_Division)"
      ],
      "execution_count": 21,
      "outputs": [
        {
          "output_type": "stream",
          "text": [
            "2.5\n"
          ],
          "name": "stdout"
        }
      ]
    },
    {
      "cell_type": "code",
      "metadata": {
        "id": "_b05MgLmpZog",
        "outputId": "d578cb0f-f5cf-4871-d1bc-a57dc282b60b",
        "colab": {
          "base_uri": "https://localhost:8080/",
          "height": 35
        }
      },
      "source": [
        "Floor_Division = 7//1\n",
        "print(Floor_Division)"
      ],
      "execution_count": 28,
      "outputs": [
        {
          "output_type": "stream",
          "text": [
            "7\n"
          ],
          "name": "stdout"
        }
      ]
    },
    {
      "cell_type": "code",
      "metadata": {
        "id": "zCrpglO_p7OE",
        "outputId": "af82ef21-f294-49e4-b3b7-17d564ca1f0b",
        "colab": {
          "base_uri": "https://localhost:8080/",
          "height": 35
        }
      },
      "source": [
        "remainder = 15%9\n",
        "print(remainder)"
      ],
      "execution_count": 30,
      "outputs": [
        {
          "output_type": "stream",
          "text": [
            "6\n"
          ],
          "name": "stdout"
        }
      ]
    },
    {
      "cell_type": "code",
      "metadata": {
        "id": "Mz0sweVJrZo4"
      },
      "source": [
        ""
      ],
      "execution_count": null,
      "outputs": []
    },
    {
      "cell_type": "markdown",
      "metadata": {
        "id": "NzsyF2gdrdAc"
      },
      "source": [
        "#**Relational Operators**"
      ]
    },
    {
      "cell_type": "code",
      "metadata": {
        "id": "MD95qxLsr6Hq"
      },
      "source": [
        "x = 45\n",
        "y = 45"
      ],
      "execution_count": 31,
      "outputs": []
    },
    {
      "cell_type": "code",
      "metadata": {
        "id": "MpMryjXNr_vM",
        "outputId": "669ce7d3-9a78-46eb-b239-1a232e0eb10a",
        "colab": {
          "base_uri": "https://localhost:8080/",
          "height": 35
        }
      },
      "source": [
        "x>y"
      ],
      "execution_count": 33,
      "outputs": [
        {
          "output_type": "execute_result",
          "data": {
            "text/plain": [
              "True"
            ]
          },
          "metadata": {
            "tags": []
          },
          "execution_count": 33
        }
      ]
    },
    {
      "cell_type": "code",
      "metadata": {
        "id": "8KEG4ZGNsIo4",
        "outputId": "ccb3ef67-e572-4e3a-f671-94b7fd8dc9e1",
        "colab": {
          "base_uri": "https://localhost:8080/",
          "height": 35
        }
      },
      "source": [
        "x<y"
      ],
      "execution_count": 34,
      "outputs": [
        {
          "output_type": "execute_result",
          "data": {
            "text/plain": [
              "False"
            ]
          },
          "metadata": {
            "tags": []
          },
          "execution_count": 34
        }
      ]
    },
    {
      "cell_type": "code",
      "metadata": {
        "id": "ONjqzcrVsSaT",
        "outputId": "7cc0b3f8-9e2a-4890-85cb-57ec986a47a2",
        "colab": {
          "base_uri": "https://localhost:8080/",
          "height": 35
        }
      },
      "source": [
        "x==y"
      ],
      "execution_count": 35,
      "outputs": [
        {
          "output_type": "execute_result",
          "data": {
            "text/plain": [
              "False"
            ]
          },
          "metadata": {
            "tags": []
          },
          "execution_count": 35
        }
      ]
    },
    {
      "cell_type": "code",
      "metadata": {
        "id": "fURvthuIsXsR",
        "outputId": "a14645a6-3ed9-4ba6-8e97-2f7346a002c1",
        "colab": {
          "base_uri": "https://localhost:8080/",
          "height": 35
        }
      },
      "source": [
        "x!=y"
      ],
      "execution_count": 36,
      "outputs": [
        {
          "output_type": "execute_result",
          "data": {
            "text/plain": [
              "True"
            ]
          },
          "metadata": {
            "tags": []
          },
          "execution_count": 36
        }
      ]
    },
    {
      "cell_type": "code",
      "metadata": {
        "id": "vBAlE8ZAsfgO",
        "outputId": "c04363e1-9ea1-4dc7-e6b1-2ef26b9d4fc9",
        "colab": {
          "base_uri": "https://localhost:8080/",
          "height": 35
        }
      },
      "source": [
        "x>=y"
      ],
      "execution_count": 37,
      "outputs": [
        {
          "output_type": "execute_result",
          "data": {
            "text/plain": [
              "True"
            ]
          },
          "metadata": {
            "tags": []
          },
          "execution_count": 37
        }
      ]
    },
    {
      "cell_type": "code",
      "metadata": {
        "id": "T3nuRDulsisF",
        "outputId": "2d4afbb4-caf3-4c2c-e8f6-74f0b4ba408e",
        "colab": {
          "base_uri": "https://localhost:8080/",
          "height": 35
        }
      },
      "source": [
        "x<=y"
      ],
      "execution_count": 38,
      "outputs": [
        {
          "output_type": "execute_result",
          "data": {
            "text/plain": [
              "False"
            ]
          },
          "metadata": {
            "tags": []
          },
          "execution_count": 38
        }
      ]
    },
    {
      "cell_type": "markdown",
      "metadata": {
        "id": "DYxzuBSqsm2o"
      },
      "source": [
        "Chaining Comparisons"
      ]
    },
    {
      "cell_type": "code",
      "metadata": {
        "id": "yG9v85fyspPs"
      },
      "source": [
        "x = 6\n",
        "y = 7"
      ],
      "execution_count": 40,
      "outputs": []
    },
    {
      "cell_type": "code",
      "metadata": {
        "id": "mCR5kaLKszRD",
        "outputId": "bd682de4-6a97-494b-cdf3-f9a857d97604",
        "colab": {
          "base_uri": "https://localhost:8080/",
          "height": 35
        }
      },
      "source": [
        "12 <= x <= 8"
      ],
      "execution_count": 43,
      "outputs": [
        {
          "output_type": "execute_result",
          "data": {
            "text/plain": [
              "False"
            ]
          },
          "metadata": {
            "tags": []
          },
          "execution_count": 43
        }
      ]
    },
    {
      "cell_type": "code",
      "metadata": {
        "id": "AgFdKLyDs4Sl",
        "outputId": "6daff943-a519-487c-9071-66090f75fe6c",
        "colab": {
          "base_uri": "https://localhost:8080/",
          "height": 35
        }
      },
      "source": [
        "12 <= y <= 8"
      ],
      "execution_count": 42,
      "outputs": [
        {
          "output_type": "execute_result",
          "data": {
            "text/plain": [
              "False"
            ]
          },
          "metadata": {
            "tags": []
          },
          "execution_count": 42
        }
      ]
    },
    {
      "cell_type": "markdown",
      "metadata": {
        "id": "LJubpURBtomb"
      },
      "source": [
        "#**Print Function**"
      ]
    },
    {
      "cell_type": "markdown",
      "metadata": {
        "id": "XA2SDcDKtwM4"
      },
      "source": [
        "Printing a Comma-Separated List of Items"
      ]
    },
    {
      "cell_type": "code",
      "metadata": {
        "id": "aJRf37nCt9Qp",
        "outputId": "733f6f53-5dde-450d-97f3-e941594fd7c9",
        "colab": {
          "base_uri": "https://localhost:8080/",
          "height": 35
        }
      },
      "source": [
        "print('Welcome', 'to', 'Python!')"
      ],
      "execution_count": 49,
      "outputs": [
        {
          "output_type": "stream",
          "text": [
            "Welcome to Python!\n"
          ],
          "name": "stdout"
        }
      ]
    },
    {
      "cell_type": "markdown",
      "metadata": {
        "id": "RjeuqrJguOxy"
      },
      "source": [
        "Printing Many Lines of Text with One Statement"
      ]
    },
    {
      "cell_type": "code",
      "metadata": {
        "id": "bMEoMyPyuP9P",
        "outputId": "f70f6c99-bdc7-41be-a1c7-4a2250bbd36e",
        "colab": {
          "base_uri": "https://localhost:8080/",
          "height": 72
        }
      },
      "source": [
        "print('Welcome\\nto\\nPython!')"
      ],
      "execution_count": 51,
      "outputs": [
        {
          "output_type": "stream",
          "text": [
            "Welcome\n",
            "to\n",
            "Python!\n"
          ],
          "name": "stdout"
        }
      ]
    }
  ]
}
